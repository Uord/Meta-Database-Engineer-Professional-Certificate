{
 "cells": [
  {
   "cell_type": "markdown",
   "source": [
    "## C6M3L3 Item 04  - Working with connection pools"
   ],
   "metadata": {}
  },
  {
   "cell_type": "markdown",
   "source": [
    "## Task 1\n",
    "\n",
    "Create a database connection pool with three connections available for the users to connect. You need to import MySQLConnectionPool class and pass the following arguments: \n",
    "\n",
    "* pool_name = “ll_pool_a” \n",
    "* pool_size = 3 \n",
    "* **dbconfig \n",
    "\n",
    "Your database configuration will look like this:  \n",
    "```Python\n",
    "dbconfig = { \n",
    "    \"database\" : \"name_of_the_little_lemon_database\",  \n",
    "    \"user\" : \"your_username\", \n",
    "    \"password\" : \"your_password\" \n",
    "} \n",
    "```\n",
    "\n",
    "Use the actual name of the database together with authenticated username and password in the above configuration.  \n",
    "\n",
    "Please use the Error class from `mysql.connector` to handle the possible error in case the wrong parameters are passed on the database configuration.  \n",
    "\n",
    "**Tip:** Use try-except block from Python to implement the error handling. Once the connection pool is created, use the print statements to display the name of the pool and the number of connections in it.  "
   ],
   "metadata": {}
  },
  {
   "cell_type": "markdown",
   "source": [
    "## Generic guidelines: \n",
    "\n",
    "Refer to the [Exercise](https://www.coursera.org/learn/database-clients/supplement/0oDtw/working-with-labs-in-this-course) for guidance on viewing your code, instructions related to the Jupyter notebook environment, as well as how to access the MySQL database in it.  \n",
    "\n",
    "## Prerequisites: \n",
    "\n",
    "To complete this lab, you need to install Python and MySQL. Then you need to install MySQL Connector/Python client or API on your Python environment. Follow the instructions in previous videos to install the required packages or software.  \n",
    "\n",
    "To work with MySQL using Python, you must have an authorized user account on the MySQL server.  \n",
    "\n",
    "## Scenario: \n",
    "\n",
    "Little Lemon’s guests need to access the database for any booking or inquiry, for example, reading the menu. Little Lemon, therefore, needs to establish a connection between the Python and MySQL databases for every operation.  Establishing a connection every time is resource intensive and it is affecting the performance of the Little Lemon application. To improve the performance of the application, Little Lemon needs to establish a pool of database connections to facilitate the guests’ inquiries to the database. \n",
    "\n",
    "You are tasked to help Little Lemon to create a pool of database connections using Python. "
   ],
   "metadata": {}
  },
  {
   "cell_type": "code",
   "execution_count": 1,
   "source": [
    "# Add your code here\n",
    "from mysql.connector.pooling import MySQLConnectionPool\n",
    "from mysql.connector import Error\n",
    "\n",
    "dbconfig = { \n",
    "    \"database\" : \"little_lemon\",  \n",
    "    \"user\" : \"root\", \n",
    "    \"password\" : \"\" \n",
    "}\n",
    "\n",
    "try: \n",
    "    pool = MySQLConnectionPool(pool_name = \"ll_pool_a\",\n",
    "                           pool_size = 3,\n",
    "                           **dbconfig)\n",
    "                           \n",
    "    print(pool.pool_name)\n",
    "    print(pool.pool_size)\n",
    "\n",
    "except Error as er:\n",
    "    print(\"Error code:\", er.errno)\n",
    "    print(\"Error message:\", er.msg)"
   ],
   "outputs": [],
   "metadata": {}
  },
  {
   "cell_type": "markdown",
   "source": [
    "## Task 2\n",
    "\n",
    "Get a connection from the database connection pool that you have created in the first task and retrieve the following columns from the `Bookings` table: \n",
    "\n",
    "* `BookingID` \n",
    "* `GuestFirstName` \n",
    "* `GuestLastName` \n",
    "\n",
    "Retrieve the required columns and put the connection back into the pool after you have completed the task. \n",
    "\n",
    "**TIP:** Use the `get_connection` module from the `pool` to use the connection. Use `print` statements to display the following message and `close` the connection to return to the pool.  "
   ],
   "metadata": {}
  },
  {
   "cell_type": "code",
   "execution_count": 2,
   "source": [
    "# Add your code here\n",
    "dbconfig = { \n",
    "    \"database\" : \"little_lemon\",  \n",
    "    \"user\" : \"root\", \n",
    "    \"password\" : \"\" \n",
    "}\n",
    "\n",
    "try: \n",
    "    pool = MySQLConnectionPool(pool_name = \"ll_pool_a\",\n",
    "                           pool_size = 3,\n",
    "                           **dbconfig)\n",
    "\n",
    "except Error as er:\n",
    "    print(\"Error code:\", er.errno)\n",
    "    print(\"Error message:\", er.msg)\n",
    "\n",
    "sql_stmt = \"SELECT BookingId, GuestFirstName, GuestLastName FROM Bookings;\"\n",
    "\n",
    "connection = pool.get_connection()\n",
    "cursor = connection.cursor()\n",
    "cursor.execute(sql_stmt)\n",
    "results = cursor.fetchall()\n",
    "\n",
    "print(\"Upcoming Bookings are:\")\n",
    "print(cursor.column_names)\n",
    "for result in results:\n",
    "    print(result)\n",
    "\n",
    "connection.close()"
   ],
   "outputs": [
    {
     "output_type": "stream",
     "name": "stdout",
     "text": [
      "Upcoming Bookings are:\n",
      "('BookingId', 'GuestFirstName', 'GuestLastName')\n",
      "(1, 'Anna', 'Iversen')\n",
      "(2, 'Joakim', 'Iversen')\n",
      "(3, 'Vanessa', 'McCarthy')\n",
      "(4, 'Marcos', 'Romero')\n",
      "(5, 'Hiroki', 'Yamane')\n",
      "(6, 'Diana', 'Pinto')\n"
     ]
    }
   ],
   "metadata": {}
  },
  {
   "cell_type": "markdown",
   "source": [
    "## Task 3\n",
    "\n",
    "The following five guests want to connect to the database: \n",
    "\n",
    "* guests = [\"Anna\", \"Marcos\", \"Diana\", \"Joakim\", \"Hiroki\"] \n",
    "\n",
    "You only have three connections in the database connection pool. Use the available connection in the `pool` to connect three guests and then add new connections in the pool to connect the remaining two guests. By adding more connection in the pool, make sure that all five guests are connected to the database at the same time.  \n",
    "\n",
    "**Tip:** Use `add_connection` module from the `pool` and add a new connection if all are in use. Use `try-except` from Python and print the message to inform the user when connected. "
   ],
   "metadata": {}
  },
  {
   "cell_type": "code",
   "execution_count": 4,
   "source": [
    "# Add your code here\n",
    "import mysql.connector as connector\n",
    "\n",
    "dbconfig = {\n",
    "    \"database\":\"little_lemon\",\n",
    "    \"user\" : \"root\",\n",
    "    \"password\" : \"\"\n",
    "}\n",
    "\n",
    "pool = MySQLConnectionPool(pool_name = \"ll_pool_a\",\n",
    "                           pool_size = 3,\n",
    "                           **dbconfig)\n",
    "\n",
    "guests = [\"Anna\", \"Marcos\", \"Diana\", \"Joakim\", \"Hiroki\"]\n",
    "\n",
    "for guest in guests:\n",
    "    try:\n",
    "        guest_connected = pool.get_connection()\n",
    "        print(f\"[{guest}] is connected.\\n\")\n",
    "        \n",
    "    except:\n",
    "        print(\"No more connections are available.\")\n",
    "        print(\"Adding new connection in the pool.\")\n",
    "        \n",
    "        connection=connector.connect(user=\"root\",password=\"\")\n",
    "        pool.add_connection(cnx=connection)\n",
    "        print(\"A new connection is added in the pool.\\n\")\n",
    "        \n",
    "        user_connected = pool.get_connection()\n",
    "        print(f\"[{guest}] is connected.\\n\")"
   ],
   "outputs": [
    {
     "output_type": "stream",
     "name": "stdout",
     "text": [
      "[Anna] is connected.\n",
      "\n",
      "[Marcos] is connected.\n",
      "\n",
      "[Diana] is connected.\n",
      "\n",
      "No more connections are available.\n",
      "Adding new connection in the pool.\n",
      "A new connection is added in the pool.\n",
      "\n",
      "[Joakim] is connected.\n",
      "\n",
      "No more connections are available.\n",
      "Adding new connection in the pool.\n",
      "A new connection is added in the pool.\n",
      "\n",
      "[Hiroki] is connected.\n",
      "\n"
     ]
    }
   ],
   "metadata": {}
  }
 ],
 "metadata": {
  "kernelspec": {
   "name": "python3",
   "display_name": "Python 3.8.10 64-bit"
  },
  "language_info": {
   "codemirror_mode": {
    "name": "ipython",
    "version": 3
   },
   "file_extension": ".py",
   "mimetype": "text/x-python",
   "name": "python",
   "nbconvert_exporter": "python",
   "pygments_lexer": "ipython3",
   "version": "3.8.10"
  },
  "interpreter": {
   "hash": "31f2aee4e71d21fbe5cf8b01ff0e069b9275f58929596ceb00d14d90e3e16cd6"
  }
 },
 "nbformat": 4,
 "nbformat_minor": 4
}