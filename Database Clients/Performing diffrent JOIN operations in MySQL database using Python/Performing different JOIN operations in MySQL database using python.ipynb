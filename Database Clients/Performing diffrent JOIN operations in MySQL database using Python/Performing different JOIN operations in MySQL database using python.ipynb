{
 "cells": [
  {
   "cell_type": "markdown",
   "source": [
    "## C6M2L2 Item 07 – Performing different JOIN operations in MySQL database using python \n"
   ],
   "metadata": {}
  },
  {
   "cell_type": "markdown",
   "source": [
    "## Generic guidelines: \n",
    "\n",
    "Refer to the [Exercise](https://www.coursera.org/learn/database-clients/supplement/0oDtw/working-with-labs-in-this-course) for guidance on viewing your code, instructions related to the Jupyter notebook environment, as well as how to access the MySQL database in it. \n",
    " \n",
    "\n",
    "## Prerequisites \n",
    "\n",
    "To complete this exercise, you must have access to the `little_lemon` database. You need to import MySQL Python/Connector and, as an authorized user, establish a connection between Python and the MySQL database via connector API using the following code: "
   ],
   "metadata": {}
  },
  {
   "cell_type": "code",
   "execution_count": 1,
   "source": [
    "import mysql.connector as connector"
   ],
   "outputs": [],
   "metadata": {}
  },
  {
   "cell_type": "code",
   "execution_count": 2,
   "source": [
    "# Establish connection b/w Python and MySQL database via connector API\n",
    "connection=connector.connect(\n",
    "                             user=\"root\", # use your own\n",
    "                             password=\"\", # use your own\n",
    "                            )"
   ],
   "outputs": [],
   "metadata": {}
  },
  {
   "cell_type": "markdown",
   "source": [
    "Once, the connection is established, create a `cursor` object to communicate with the entire MySQL database from your python working environment. "
   ],
   "metadata": {}
  },
  {
   "cell_type": "code",
   "execution_count": 3,
   "source": [
    "# Create cursor object to communicate with entire MySQL database\n",
    "cursor = connection.cursor()"
   ],
   "outputs": [],
   "metadata": {}
  },
  {
   "cell_type": "markdown",
   "source": [
    "Now, you can select the database `little_lemon` using the code below and work with the respective tables to accomplish the required tasks. "
   ],
   "metadata": {}
  },
  {
   "cell_type": "code",
   "execution_count": 4,
   "source": [
    "# Set little_lemon database for use \n",
    "cursor.execute(\"use little_lemon\")\n",
    "\n",
    "# Confirm the database in use\n",
    "connection.database"
   ],
   "outputs": [
    {
     "output_type": "execute_result",
     "data": {
      "text/plain": [
       "'little_lemon'"
      ]
     },
     "metadata": {},
     "execution_count": 4
    }
   ],
   "metadata": {}
  },
  {
   "cell_type": "markdown",
   "source": [
    "## Scenario \n",
    "\n",
    "Little Lemon needs to carry out the following tasks with their datasets: \n",
    "\n",
    "* Determine the final bill amount for each customer who attended the restaurant today \n",
    "* Identify the type of cuisine that each item in their menu belongs to. \n",
    "\n",
    "Help Little Lemon to complete these tasks using “JOIN” operations on the restaurant’s MySQL database using Python. "
   ],
   "metadata": {}
  },
  {
   "cell_type": "markdown",
   "source": [
    "## Task 1:\n",
    "\n",
    "Little Lemon need the following information for each of the items in their menu: \n",
    "\n",
    "* The name of each item in the menu, \n",
    "* Each menu item’s type, \n",
    "* Each menu item’s cuisine, \n",
    "* and the price of each item in the menu. \n",
    "\n",
    "Help Little Lemon to extract this data from their database using Python. \n",
    "\n",
    "**TIP:** You need to combine records from the `MenuItems` and `Menu` tables using the `JOIN` operation and show only the requested columns in the output. "
   ],
   "metadata": {}
  },
  {
   "cell_type": "code",
   "execution_count": 5,
   "source": [
    "# Add your code here\n",
    "join_stmt = \"\"\"\n",
    "SELECT MenuItems.Name, MenuItems.Type, Menus.Cuisine, MenuItems.Price\n",
    "FROM MenuItems \n",
    "JOIN Menus\n",
    "ON MenuItems.ItemID = Menus.ItemID;\n",
    "\"\"\"\n",
    "\n",
    "cursor.execute(join_stmt)\n",
    "result = cursor.fetchall()\n",
    "\n",
    "print(cursor.column_names)\n",
    "for row in result:\n",
    "    print(row)"
   ],
   "outputs": [
    {
     "output_type": "stream",
     "name": "stdout",
     "text": [
      "('Name', 'Type', 'Cuisine', 'Price')\n",
      "('Olives', 'Starters', 'Greek', 5)\n",
      "('Greek salad', 'Main Courses', 'Greek', 15)\n",
      "('Greek yoghurt', 'Desserts', 'Greek', 7)\n",
      "('Athens White wine', 'Drinks', 'Greek', 25)\n",
      "('Minestrone', 'Starters', 'Italian', 8)\n",
      "('Pizza', 'Main Courses', 'Italian', 15)\n",
      "('Cheesecake', 'Desserts', 'Italian', 4)\n",
      "('Turkish Coffee', 'Drinks', 'Italian', 10)\n",
      "('Falafel', 'Starters', 'Turkish', 7)\n",
      "('Ice cream', 'Desserts', 'Turkish', 6)\n",
      "('Turkish Coffee', 'Drinks', 'Turkish', 10)\n",
      "('Kabasa', 'Main Courses', 'Turkish', 17)\n"
     ]
    }
   ],
   "metadata": {}
  },
  {
   "cell_type": "markdown",
   "source": [
    "## Task 2:\n",
    "\n",
    "Little Lemon notice that there are several menu items missing from the output of the previous task. \n",
    "\n",
    "Help Little Lemon to identify these missing items by using a `JOIN` operation in Python to return data for the missing records. \n",
    "\n",
    "**TIP:** Use a `JOIN` operation to return the missing data by joining the `MenuItems` and Menu tables. "
   ],
   "metadata": {}
  },
  {
   "cell_type": "code",
   "execution_count": 7,
   "source": [
    "# Add your code here\n",
    "join_stmt = \"\"\"\n",
    "SELECT MenuItems.Name, MenuItems.Type, Menus.Cuisine, MenuItems.Price\n",
    "FROM MenuItems \n",
    "LEFT JOIN Menus\n",
    "ON MenuItems.ItemID = Menus.ItemID\n",
    "WHERE Cuisine IS NULL;\n",
    "\"\"\"\n",
    "\n",
    "cursor.execute(join_stmt)\n",
    "result = cursor.fetchall()\n",
    "\n",
    "print(cursor.column_names)\n",
    "for row in result:\n",
    "    print(row)"
   ],
   "outputs": [
    {
     "output_type": "stream",
     "name": "stdout",
     "text": [
      "('Name', 'Type', 'Cuisine', 'Price')\n",
      "('Flatbread', 'Starters', None, 5)\n",
      "('Tomato bread', 'Starters', None, 8)\n",
      "('Hummus', 'Starters', None, 5)\n",
      "('Bean soup', 'Main Courses', None, 12)\n",
      "('Corfu Red Wine', 'Drinks', None, 30)\n"
     ]
    }
   ],
   "metadata": {}
  },
  {
   "cell_type": "markdown",
   "source": [
    "## Task 3:\n",
    "\n",
    "Little Lemon restaurant need you to help them retrieve the following information from the `Bookings` and the `Orders` tables in their MySQL database using Python: \n",
    "\n",
    "* Booking ID \n",
    "* Table number \n",
    "* Guest first name \n",
    "* Server ID \n",
    "* Bill amount  \n",
    "\n",
    "**TIP:** Combine the records from the `Bookings` and the `Orders` tables using a `JOIN` operation. The requested column `ServerID` is the `EmployeeID` column in the `Booking` table. Create an alias for this purpose.  "
   ],
   "metadata": {}
  },
  {
   "cell_type": "code",
   "execution_count": 8,
   "source": [
    "# Add your code here\n",
    "join_stmt = \"\"\"\n",
    "SELECT Bookings.BookingID, Bookings.TableNo, Bookings.GuestFirstName, Bookings.EmployeeID AS ServerID, Orders.BillAmount\n",
    "FROM Bookings \n",
    "JOIN Orders\n",
    "ON Bookings.TableNo = Orders.TableNo;\n",
    "\"\"\"\n",
    "\n",
    "cursor.execute(join_stmt)\n",
    "result = cursor.fetchall()\n",
    "\n",
    "print(cursor.column_names)\n",
    "for row in result:\n",
    "    print(row)"
   ],
   "outputs": [
    {
     "output_type": "stream",
     "name": "stdout",
     "text": [
      "('BookingID', 'TableNo', 'GuestFirstName', 'ServerID', 'BillAmount')\n",
      "(1, 12, 'Anna', 1, 86)\n",
      "(2, 12, 'Joakim', 1, 86)\n",
      "(3, 19, 'Vanessa', 3, 37)\n",
      "(4, 15, 'Marcos', 4, 37)\n",
      "(5, 5, 'Hiroki', 2, 40)\n",
      "(6, 8, 'Diana', 5, 43)\n"
     ]
    }
   ],
   "metadata": {}
  },
  {
   "cell_type": "code",
   "execution_count": 9,
   "source": [
    "if connection.is_connected():\n",
    "    cursor.close()\n",
    "    connection.close()\n",
    "    print(\"MySQL connection is closed\")\n",
    "else:\n",
    "    print(\"MySQL connection is already closed\")"
   ],
   "outputs": [
    {
     "output_type": "stream",
     "name": "stdout",
     "text": [
      "MySQL connection is closed\n"
     ]
    }
   ],
   "metadata": {}
  }
 ],
 "metadata": {
  "kernelspec": {
   "name": "python3",
   "display_name": "Python 3.8.10 64-bit"
  },
  "language_info": {
   "codemirror_mode": {
    "name": "ipython",
    "version": 3
   },
   "file_extension": ".py",
   "mimetype": "text/x-python",
   "name": "python",
   "nbconvert_exporter": "python",
   "pygments_lexer": "ipython3",
   "version": "3.8.10"
  },
  "interpreter": {
   "hash": "31f2aee4e71d21fbe5cf8b01ff0e069b9275f58929596ceb00d14d90e3e16cd6"
  }
 },
 "nbformat": 4,
 "nbformat_minor": 4
}