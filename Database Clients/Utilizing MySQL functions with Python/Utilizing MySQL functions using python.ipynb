{
 "cells": [
  {
   "cell_type": "markdown",
   "source": [
    "## C6M3L1 Item 05 – Utilizing MySQL functions using python \n"
   ],
   "metadata": {}
  },
  {
   "cell_type": "markdown",
   "source": [
    "## Generic guidelines: \n",
    "\n",
    "Refer to the [Exercise](https://www.coursera.org/learn/database-clients/supplement/0oDtw/working-with-labs-in-this-course) for guidance on viewing your code, instructions related to the Jupyter notebook environment, as well as how to access the MySQL database in it. \n",
    "\n",
    "## Prerequisites: \n",
    "\n",
    "To complete this exercise, you must have access to the `little_lemon` database. As an authorized user, you need to establish a connection between Python and the database via the MySQL Connector/Python API and create a `cursor` object using the following code: "
   ],
   "metadata": {}
  },
  {
   "cell_type": "code",
   "execution_count": 1,
   "source": [
    "import mysql.connector as connector"
   ],
   "outputs": [],
   "metadata": {}
  },
  {
   "cell_type": "code",
   "execution_count": 2,
   "source": [
    "# Establish connection b/w Python and MySQL database via connector API\n",
    "connection=connector.connect(\n",
    "                             user=\"root\", # use your own\n",
    "                             password=\"\", # use your own\n",
    "                            )"
   ],
   "outputs": [],
   "metadata": {}
  },
  {
   "cell_type": "code",
   "execution_count": 3,
   "source": [
    "# Create cursor object to communicate with entire MySQL database\n",
    "cursor = connection.cursor()"
   ],
   "outputs": [],
   "metadata": {}
  },
  {
   "cell_type": "markdown",
   "source": [
    "Once, the connection is established, and you have a cursor object, you can select the database `little_lemon` and work with the respective table to accomplish the required tasks.  "
   ],
   "metadata": {}
  },
  {
   "cell_type": "code",
   "execution_count": 4,
   "source": [
    "#cursor.execute(\"use little_lemon\")"
   ],
   "outputs": [],
   "metadata": {}
  },
  {
   "cell_type": "code",
   "execution_count": 4,
   "source": [
    "# Set little_lemon for use \n",
    "cursor.execute(\"use little_lemon\")\n",
    "\n",
    "# Confirming\n",
    "connection.database"
   ],
   "outputs": [
    {
     "output_type": "execute_result",
     "data": {
      "text/plain": [
       "'little_lemon'"
      ]
     },
     "metadata": {},
     "execution_count": 4
    }
   ],
   "metadata": {}
  },
  {
   "cell_type": "markdown",
   "source": [
    "## Scenario: \n",
    "\n",
    "There are several occasions where Little Lemon needs to perform routine operations, some of them include, total sales, the total number of guests, the number of items in each cuisine, the full name of the guests, and so on. These are only a few examples and writing queries again and again for such routine tasks is not trivial. You can help Little Lemon to handle such tasks using MySQL functions in their python-based application. "
   ],
   "metadata": {}
  },
  {
   "cell_type": "markdown",
   "source": [
    "## Task 1:\n",
    "\n",
    "Along with the booking ID, little lemon needs to add the full name of the guests in upper case on their invoices. Help little lemon to extract the data in the required format.  \n",
    "\n",
    "TIP: Target `GuestFistName`, `GuestLastName` and combine them to get `GuestFullName`.  "
   ],
   "metadata": {}
  },
  {
   "cell_type": "code",
   "execution_count": 6,
   "source": [
    "# Add your code here\n",
    "select_stmt = \"\"\"\n",
    "SELECT BookingID, CONCAT(GuestFirstName, ' ', GuestLastName) AS GuestFullName\n",
    "FROM Bookings;\n",
    "\"\"\"\n",
    "\n",
    "cursor.execute(select_stmt)\n",
    "result = cursor.fetchall()\n",
    "\n",
    "print(cursor.column_names)\n",
    "for row in result:\n",
    "    print(row)"
   ],
   "outputs": [
    {
     "output_type": "stream",
     "name": "stdout",
     "text": [
      "('BookingID', 'GuestFullNAme')\n",
      "(1, 'Anna Iversen')\n",
      "(2, 'Joakim Iversen')\n",
      "(3, 'Vanessa McCarthy')\n",
      "(4, 'Marcos Romero')\n",
      "(5, 'Hiroki Yamane')\n",
      "(6, 'Diana Pinto')\n"
     ]
    }
   ],
   "metadata": {}
  },
  {
   "cell_type": "markdown",
   "source": [
    "## Task 2:\n",
    "\n",
    "Little lemon needs to know the following statistics at closing: \n",
    "\n",
    "* Number of bookings \n",
    "* Total sale \n",
    "* Average sale \n",
    "\n",
    "Help little lemon to compute the required statistics from the data in the “Orders” table using python. \n",
    "\n",
    "**TIP:** Target “BookingID” and “BillAmount” columns in the “Orders” table and use MySQL built-in functions to compute the required statistics. Once, you grab the results, use the following python code to print the required output.  \n",
    "\n",
    "```Python\n",
    "print(\"Today's statistics:\") \n",
    "for result in results: \n",
    "    print(\"Number of bookings:\",result[0]) \n",
    "    print(\"Total sale:\",result[1]) \n",
    "    print(\"Average sale:\",result[2]) \n",
    "```"
   ],
   "metadata": {}
  },
  {
   "cell_type": "code",
   "execution_count": 8,
   "source": [
    "# Add your code here\n",
    "select_stmt = \"\"\"\n",
    "SELECT COUNT(BookingID), SUM(BillAmount), AVG(BillAmount)\n",
    "FROM Orders;\n",
    "\"\"\"\n",
    "\n",
    "cursor.execute(select_stmt)\n",
    "results = cursor.fetchall()\n",
    "\n",
    "print(\"Today's statistics:\") \n",
    "for result in results: \n",
    "    print(\"Number of bookings:\",result[0]) \n",
    "    print(\"Total sale:\",result[1]) \n",
    "    print(\"Average sale:\",result[2]) "
   ],
   "outputs": [
    {
     "output_type": "stream",
     "name": "stdout",
     "text": [
      "Today's statistics:\n",
      "Number of bookings: 5\n",
      "Total sale: 243\n",
      "Average sale: 48.6000\n"
     ]
    }
   ],
   "metadata": {}
  },
  {
   "cell_type": "markdown",
   "source": [
    "## Task 3:\n",
    "\n",
    "Little lemon needs to know the number of bookings for each table. Please help them to print the table number and the number of bookings for each table.  \n",
    "\n",
    "**TIP:** Target `TableNo` column in the booking table, count the number of bookings for each table, and group the data. Print the results in descending order.  "
   ],
   "metadata": {}
  },
  {
   "cell_type": "code",
   "execution_count": 9,
   "source": [
    "# Add your code here\n",
    "select_stmt = \"\"\"\n",
    "SELECT TableNo AS 'Table number', COUNT(TableNo) AS 'n_bookings'\n",
    "FROM Bookings\n",
    "GROUP BY 1;\n",
    "\"\"\"\n",
    "\n",
    "cursor.execute(select_stmt)\n",
    "result = cursor.fetchall()\n",
    "\n",
    "print(cursor.column_names)\n",
    "for row in result:\n",
    "    print(row)"
   ],
   "outputs": [
    {
     "output_type": "stream",
     "name": "stdout",
     "text": [
      "('Table number', 'n_bookings')\n",
      "(12, 2)\n",
      "(19, 1)\n",
      "(15, 1)\n",
      "(5, 1)\n",
      "(8, 1)\n"
     ]
    }
   ],
   "metadata": {}
  },
  {
   "cell_type": "markdown",
   "source": [
    "## Task 4:\n",
    "\n",
    "Little lemon wants to create three arrival slots for the guests based on the booking hour: \n",
    "\n",
    "* Late afternoon: for hours 15 and 16  \n",
    "* Evening: for hours 17 and 18 \n",
    "* Night: for hours 19 and 20 \n",
    "\n",
    "Help little lemon to create the above slots and display the booking ID, guest name, and arrival slot on the kitchen screen so that the staff can plan accordingly.  \n",
    "\n",
    "**TIP:** Target `GuestFistName` and `GuestLastName` columns and combine them to get `Guest_Name`. Use the MySQL `CASE` function and create `Arrival_slot` for each guest.  "
   ],
   "metadata": {}
  },
  {
   "cell_type": "code",
   "execution_count": 10,
   "source": [
    "# Add your code here\n",
    "select_stmt = \"\"\"\n",
    "SELECT BookingID, CONCAT(GuestFirstName, ' ', GuestLastName) AS Guest_Name,\n",
    "CASE\n",
    "    WHEN (HOUR(BookingSlot) = 15 OR HOUR(BookingSlot) = 16) THEN 'Late afternoon'\n",
    "    WHEN (HOUR(BookingSlot) = 17 OR HOUR(BookingSlot) = 18) THEN 'Evening'\n",
    "    WHEN (HOUR(BookingSlot) = 19 OR HOUR(BookingSlot) = 20) THEN 'Night'\n",
    "END AS Arrival_slot\n",
    "FROM Bookings\n",
    "\"\"\"\n",
    "\n",
    "cursor.execute(select_stmt)\n",
    "result = cursor.fetchall()\n",
    "\n",
    "print(cursor.column_names)\n",
    "for row in result:\n",
    "    print(row)"
   ],
   "outputs": [
    {
     "output_type": "stream",
     "name": "stdout",
     "text": [
      "('BookingID', 'Guest_Name', 'Arrival_slot')\n",
      "(1, 'Anna Iversen', 'Night')\n",
      "(2, 'Joakim Iversen', 'Night')\n",
      "(3, 'Vanessa McCarthy', 'Late afternoon')\n",
      "(4, 'Marcos Romero', 'Evening')\n",
      "(5, 'Hiroki Yamane', 'Evening')\n",
      "(6, 'Diana Pinto', 'Night')\n"
     ]
    }
   ],
   "metadata": {}
  },
  {
   "cell_type": "code",
   "execution_count": 11,
   "source": [
    "if connection.is_connected():\n",
    "    cursor.close()\n",
    "    connection.close()\n",
    "    print(\"MySQL connection is closed\")\n",
    "else:\n",
    "    print(\"MySQL connection is already closed\")"
   ],
   "outputs": [
    {
     "output_type": "stream",
     "name": "stdout",
     "text": [
      "MySQL connection is closed\n"
     ]
    }
   ],
   "metadata": {}
  }
 ],
 "metadata": {
  "kernelspec": {
   "name": "python3",
   "display_name": "Python 3.8.10 64-bit"
  },
  "language_info": {
   "codemirror_mode": {
    "name": "ipython",
    "version": 3
   },
   "file_extension": ".py",
   "mimetype": "text/x-python",
   "name": "python",
   "nbconvert_exporter": "python",
   "pygments_lexer": "ipython3",
   "version": "3.8.10"
  },
  "interpreter": {
   "hash": "31f2aee4e71d21fbe5cf8b01ff0e069b9275f58929596ceb00d14d90e3e16cd6"
  }
 },
 "nbformat": 4,
 "nbformat_minor": 4
}