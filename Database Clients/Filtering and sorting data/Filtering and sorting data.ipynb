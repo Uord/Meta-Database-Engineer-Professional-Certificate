{
 "cells": [
  {
   "cell_type": "markdown",
   "metadata": {},
   "source": [
    "## C6M2L2 Item 03 – Filtering and sorting data"
   ]
  },
  {
   "cell_type": "markdown",
   "metadata": {},
   "source": [
    "## Generic guidelines: \n",
    "\n",
    "Refer to the [Exercise](https://www.coursera.org/learn/database-clients/supplement/0oDtw/working-with-labs-in-this-course) for guidance on viewing your code, instructions related to the Jupyter notebook environment, as well as how to access the MySQL database in it.\n",
    "\n",
    "## Prerequisites \n",
    "\n",
    "To complete this exercise, you must have access to the `little_lemon` database. You need to `import MySQL Python/Connector` and, as an authorized user, establish a connection between Python and the MySQL database via connector API using the following code: "
   ]
  },
  {
   "cell_type": "code",
   "execution_count": 1,
   "metadata": {},
   "outputs": [],
   "source": [
    "import mysql.connector as connector"
   ]
  },
  {
   "cell_type": "code",
   "execution_count": 2,
   "metadata": {},
   "outputs": [],
   "source": [
    "# Establish connection b/w Python and MySQL database via connector API\n",
    "connection=connector.connect(\n",
    "                             user=\"root\", # use your own\n",
    "                             password=\"\", # use your own\n",
    "                            )"
   ]
  },
  {
   "cell_type": "markdown",
   "metadata": {},
   "source": [
    "Once, the connection is established, create a `cursor` object to communicate with the entire MySQL database from your python working environment."
   ]
  },
  {
   "cell_type": "code",
   "execution_count": 3,
   "metadata": {},
   "outputs": [],
   "source": [
    "# Create cursor object to communicate with entire MySQL database\n",
    "cursor = connection.cursor()"
   ]
  },
  {
   "cell_type": "markdown",
   "metadata": {},
   "source": [
    "Now, you can select the database `little_lemon` using the code below and work with the respective tables to accomplish the required tasks. "
   ]
  },
  {
   "cell_type": "code",
   "execution_count": 4,
   "metadata": {},
   "outputs": [
    {
     "data": {
      "text/plain": [
       "'little_lemon'"
      ]
     },
     "execution_count": 4,
     "metadata": {},
     "output_type": "execute_result"
    }
   ],
   "source": [
    "# Set little_lemon for use \n",
    "cursor.execute(\"use little_lemon\")\n",
    "\n",
    "# Confirm the database in use\n",
    "connection.database"
   ]
  },
  {
   "cell_type": "markdown",
   "metadata": {},
   "source": [
    "## Scenario \n",
    "\n",
    "Little Lemon need to filter and sort the data in their MySQL database using Python to complete the following tasks: \n",
    "\n",
    "* Determine which waiter is serving which guest \n",
    "* Identify all guests who paid a bill amount above a certain threshold \n",
    "* And list all starters above a certain price and order with the price. \n",
    "\n",
    "Help Little Lemon extract this data from their database using filtering and sorting techniques. "
   ]
  },
  {
   "cell_type": "markdown",
   "metadata": {},
   "source": [
    "## Task 1: \n",
    "\n",
    "Little Lemon need to know how many bookings they have today for table number 12. They also need to know the names of the guests booked for table 12 and who their servers are. \n",
    "\n",
    "Help Little Lemon to complete this task by filtering the records for table 12 from the Bookings table. Show the required records for the following columns in the output: \n",
    "\n",
    "* `TableNo`, \n",
    "* `GuestFirstName`\n",
    "* `GuestLastName`\n",
    "* `EmployeeID`"
   ]
  },
  {
   "cell_type": "code",
   "execution_count": 5,
   "metadata": {},
   "outputs": [
    {
     "name": "stdout",
     "output_type": "stream",
     "text": [
      "('TableNo', 'GuestFirstName', 'GuestLastName', 'EmployeeID')\n",
      "(12, 'Anna', 'Iversen', 1)\n",
      "(12, 'Joakim', 'Iversen', 1)\n"
     ]
    }
   ],
   "source": [
    "# Add your code here\n",
    "select_stmt = \"\"\" \n",
    "SELECT TableNo, GuestFirstName, GuestLastName, EmployeeID\n",
    "FROM Bookings\n",
    "WHERE TableNo=12;\n",
    "\"\"\"\n",
    "\n",
    "cursor.execute(select_stmt)\n",
    "\n",
    "result = cursor.fetchall()\n",
    "\n",
    "print(cursor.column_names)\n",
    "for row in result:\n",
    "    print(row)"
   ]
  },
  {
   "cell_type": "markdown",
   "metadata": {},
   "source": [
    "## Task 2: \n",
    "\n",
    "Little lemon wants to send a coupon to all guests who spent more than $40 at the restaurant today.  \n",
    "\n",
    "Help little lemon to filter and sort the records of all quests who qualify for coupon.   \n",
    "\n",
    "\n",
    "**TIP:** Target the `BookingID` and `BillAmount` columns in the `Orders` table. Sort the data based on `BillAmount` in `DESC`. \n",
    "\n",
    "Use a fetch module on the cursor or set the limit in your SQL query. "
   ]
  },
  {
   "cell_type": "code",
   "execution_count": 6,
   "metadata": {},
   "outputs": [
    {
     "name": "stdout",
     "output_type": "stream",
     "text": [
      "('BookingID', 'BillAmount')\n",
      "(1, 86)\n",
      "(5, 43)\n"
     ]
    }
   ],
   "source": [
    "# Add your code here\n",
    "select_stmt = \"\"\" \n",
    "SELECT BookingID, BillAmount\n",
    "FROM Orders\n",
    "WHERE BillAmount > 40\n",
    "ORDER BY BillAmount DESC;\n",
    "\"\"\"\n",
    "\n",
    "cursor.execute(select_stmt)\n",
    "\n",
    "result = cursor.fetchall()\n",
    "\n",
    "print(cursor.column_names)\n",
    "for row in result:\n",
    "    print(row)"
   ]
  },
  {
   "cell_type": "markdown",
   "metadata": {},
   "source": [
    "## Task 3: \n",
    "\n",
    "Little lemon needs to determine what the most and least expensive starters and desserts on their menu items are. \n",
    "\n",
    "Help them out by filtering the menu items and sorting them by price using python.  \n",
    "\n",
    "**TIP:** Filter the records based on the `Type` column in the `MenuItems` table. Sort the records by `Price` column in `DESC` order. "
   ]
  },
  {
   "cell_type": "code",
   "execution_count": 7,
   "metadata": {},
   "outputs": [
    {
     "name": "stdout",
     "output_type": "stream",
     "text": [
      "('ItemID', 'Name', 'Type', 'Price')\n",
      "(3, 'Minestrone', 'Starters', 8)\n",
      "(4, 'Tomato bread', 'Starters', 8)\n",
      "(5, 'Falafel', 'Starters', 7)\n",
      "(10, 'Greek yoghurt', 'Desserts', 7)\n",
      "(11, 'Ice cream', 'Desserts', 6)\n",
      "(1, 'Olives', 'Starters', 5)\n",
      "(2, 'Flatbread', 'Starters', 5)\n",
      "(6, 'Hummus', 'Starters', 5)\n",
      "(12, 'Cheesecake', 'Desserts', 4)\n"
     ]
    }
   ],
   "source": [
    "# Add your code here\n",
    "select_stmt = \"\"\" \n",
    "SELECT *\n",
    "FROM MenuItems\n",
    "WHERE (Type = 'Starters' OR Type = 'Desserts')\n",
    "ORDER BY Price DESC;\n",
    "\"\"\"\n",
    "\n",
    "cursor.execute(select_stmt)\n",
    "\n",
    "result = cursor.fetchall()\n",
    "\n",
    "print(cursor.column_names)\n",
    "for row in result:\n",
    "    print(row)"
   ]
  },
  {
   "cell_type": "code",
   "execution_count": 8,
   "metadata": {},
   "outputs": [
    {
     "name": "stdout",
     "output_type": "stream",
     "text": [
      "MySQL connection is closed\n"
     ]
    }
   ],
   "source": [
    "if connection.is_connected():\n",
    "    cursor.close()\n",
    "    connection.close()\n",
    "    print(\"MySQL connection is closed\")\n",
    "else:\n",
    "    print(\"MySQL connection is already closed\")"
   ]
  }
 ],
 "metadata": {
  "kernelspec": {
   "display_name": "Python 3",
   "language": "python",
   "name": "python3"
  },
  "language_info": {
   "codemirror_mode": {
    "name": "ipython",
    "version": 3
   },
   "file_extension": ".py",
   "mimetype": "text/x-python",
   "name": "python",
   "nbconvert_exporter": "python",
   "pygments_lexer": "ipython3",
   "version": "3.10.5"
  },
  "vscode": {
   "interpreter": {
    "hash": "1dbde6d1e9834096f99b59f879539b697564e6b6654789002344ffd09bc5c9e2"
   }
  }
 },
 "nbformat": 4,
 "nbformat_minor": 4
}
