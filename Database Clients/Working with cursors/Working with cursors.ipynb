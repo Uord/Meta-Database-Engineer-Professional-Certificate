{
 "cells": [
  {
   "cell_type": "markdown",
   "source": [
    "## C6M1L3 Item 04 - Working with cursors"
   ],
   "metadata": {}
  },
  {
   "cell_type": "markdown",
   "source": [
    "## Generic guidelines: \n",
    "\n",
    "Refer to the [Exercise](https://www.coursera.org/learn/database-clients/supplement/0oDtw/working-with-labs-in-this-course) for guidance on viewing your code, instructions related to the Jupyter notebook environment, as well as how to access the MySQL database in it. \n",
    "\n",
    "## Prerequisites: \n",
    "\n",
    "To complete this lab, you must have access to the `little_lemon` database. As an authorized user, you need to establish a connection between Python and the database via the MySQL Connector/Python API using the following code: "
   ],
   "metadata": {}
  },
  {
   "cell_type": "code",
   "execution_count": 1,
   "source": [
    "# Import MySQL Connector/Python\n",
    "import mysql.connector as connector"
   ],
   "outputs": [],
   "metadata": {}
  },
  {
   "cell_type": "code",
   "execution_count": 2,
   "source": [
    "# Establish connection between Python and MySQL database via connector API\n",
    "connection=connector.connect(\n",
    "                             user=\"root\",\n",
    "                             password=\"\",\n",
    "                            )"
   ],
   "outputs": [],
   "metadata": {}
  },
  {
   "cell_type": "markdown",
   "source": [
    "## Scenario: \n",
    "\n",
    "Little Lemon needs to perform some basic tasks on its databases such as setting up the database and checking the names of the tables in the database. For this purpose, they have established a connection with the MySQL database using Python. In order to perform a task they need to communicate with the database. \n",
    "\n",
    "You are tasked to help Little Lemon set up their database in use and confirm the existence of tables to perform tasks. This needs to happen according to their requirements in their Python-based application. "
   ],
   "metadata": {}
  },
  {
   "cell_type": "markdown",
   "source": [
    "## Task 1\n",
    "\n",
    "Little Lemon is restructuring its database and they are interested to know what existing tables are in the database. You need to help them retrieve the names of all the existing tables in their database. \n",
    "\n",
    "To access the names of the existing tables in the Little Lemon database, set the database `little_lemon` in use. Then, create a cursor object and execute `SHOW TABLES` to retrieve the names of the tables in the database. Fetch all the names in a variable and use the `for` loop to print the output.    \n",
    "\n",
    "**TIP:** Create the standard “cursor” object with the default set of arguments. This is done by invoking the cursor module on the connection that works with the MySQL database using Python. "
   ],
   "metadata": {}
  },
  {
   "cell_type": "code",
   "execution_count": 3,
   "source": [
    "# Add your code here\n",
    "cursor = connection.cursor()\n",
    "\n",
    "cursor.execute(\"USE little_lemon\")\n",
    "\n",
    "cursor.execute(\"SHOW TABLES\")\n",
    "for table in cursor:\n",
    "    print(table)\n"
   ],
   "outputs": [
    {
     "output_type": "stream",
     "name": "stdout",
     "text": [
      "('Bookings',)\n",
      "('MenuItems',)\n",
      "('Menus',)\n",
      "('Orders',)\n"
     ]
    }
   ],
   "metadata": {}
  },
  {
   "cell_type": "markdown",
   "source": [
    "## Task 2\n",
    "\n",
    "Creating the cursor is an important step to communicate with the entire MySQL database using Python.  \n",
    "\n",
    "You have learned about the different approaches to creating cursors and it depends on your application which approaches you will follow for resource optimization.  \n",
    "\n",
    "Run a test between the standard and the buffered cursor to check what type of cursor will work for the situation given below: \n",
    "\n",
    "* Create a cursor \n",
    "* Execute `USE little_lemon` \n",
    "* Execute `SELECT * FROM Bookings` \n",
    "* Execute `SELECT * FROM Orders` "
   ],
   "metadata": {}
  },
  {
   "cell_type": "code",
   "execution_count": 16,
   "source": [
    "# Add your code here\n",
    "cursor = connection.cursor()\n",
    "\n",
    "cursor.execute(\"USE little_lemon\")\n",
    "cursor.execute(\"SELECT * FROM Bookings\")\n",
    "cursor.execute(\"SELECT * FROM Orders\")"
   ],
   "outputs": [
    {
     "output_type": "error",
     "ename": "InternalError",
     "evalue": "Unread result found",
     "traceback": [
      "\u001b[0;31m---------------------------------------------------------------------------\u001b[0m",
      "\u001b[0;31mInternalError\u001b[0m                             Traceback (most recent call last)",
      "Cell \u001b[0;32mIn[16], line 2\u001b[0m\n\u001b[1;32m      1\u001b[0m \u001b[38;5;66;03m# Add your code here\u001b[39;00m\n\u001b[0;32m----> 2\u001b[0m cursor \u001b[38;5;241m=\u001b[39m \u001b[43mconnection\u001b[49m\u001b[38;5;241;43m.\u001b[39;49m\u001b[43mcursor\u001b[49m\u001b[43m(\u001b[49m\u001b[43m)\u001b[49m\n\u001b[1;32m      4\u001b[0m cursor\u001b[38;5;241m.\u001b[39mexecute(\u001b[38;5;124m\"\u001b[39m\u001b[38;5;124mUSE little_lemon\u001b[39m\u001b[38;5;124m\"\u001b[39m)\n\u001b[1;32m      5\u001b[0m cursor\u001b[38;5;241m.\u001b[39mfetchall()\n",
      "File \u001b[0;32m~/.local/lib/python3.8/site-packages/mysql/connector/connection_cext.py:673\u001b[0m, in \u001b[0;36mCMySQLConnection.cursor\u001b[0;34m(self, buffered, raw, prepared, cursor_class, dictionary, named_tuple)\u001b[0m\n\u001b[1;32m    636\u001b[0m \u001b[38;5;28;01mdef\u001b[39;00m \u001b[38;5;21mcursor\u001b[39m(\n\u001b[1;32m    637\u001b[0m     \u001b[38;5;28mself\u001b[39m,\n\u001b[1;32m    638\u001b[0m     buffered: Optional[\u001b[38;5;28mbool\u001b[39m] \u001b[38;5;241m=\u001b[39m \u001b[38;5;28;01mNone\u001b[39;00m,\n\u001b[0;32m   (...)\u001b[0m\n\u001b[1;32m    643\u001b[0m     named_tuple: Optional[\u001b[38;5;28mbool\u001b[39m] \u001b[38;5;241m=\u001b[39m \u001b[38;5;28;01mNone\u001b[39;00m,\n\u001b[1;32m    644\u001b[0m ) \u001b[38;5;241m-\u001b[39m\u001b[38;5;241m>\u001b[39m CMySQLCursor:\n\u001b[1;32m    645\u001b[0m     \u001b[38;5;124;03m\"\"\"Instantiates and returns a cursor using C Extension\u001b[39;00m\n\u001b[1;32m    646\u001b[0m \n\u001b[1;32m    647\u001b[0m \u001b[38;5;124;03m    By default, CMySQLCursor is returned. Depending on the options\u001b[39;00m\n\u001b[0;32m   (...)\u001b[0m\n\u001b[1;32m    671\u001b[0m \u001b[38;5;124;03m    :rtype: CMySQLCursor or subclass\u001b[39;00m\n\u001b[1;32m    672\u001b[0m \u001b[38;5;124;03m    \"\"\"\u001b[39;00m\n\u001b[0;32m--> 673\u001b[0m     \u001b[38;5;28;43mself\u001b[39;49m\u001b[38;5;241;43m.\u001b[39;49m\u001b[43mhandle_unread_result\u001b[49m\u001b[43m(\u001b[49m\u001b[43mprepared\u001b[49m\u001b[43m)\u001b[49m\n\u001b[1;32m    674\u001b[0m     \u001b[38;5;28;01mif\u001b[39;00m \u001b[38;5;129;01mnot\u001b[39;00m \u001b[38;5;28mself\u001b[39m\u001b[38;5;241m.\u001b[39mis_connected():\n\u001b[1;32m    675\u001b[0m         \u001b[38;5;28;01mraise\u001b[39;00m OperationalError(\u001b[38;5;124m\"\u001b[39m\u001b[38;5;124mMySQL Connection not available.\u001b[39m\u001b[38;5;124m\"\u001b[39m)\n",
      "File \u001b[0;32m~/.local/lib/python3.8/site-packages/mysql/connector/connection_cext.py:921\u001b[0m, in \u001b[0;36mCMySQLConnection.handle_unread_result\u001b[0;34m(self, prepared)\u001b[0m\n\u001b[1;32m    919\u001b[0m     \u001b[38;5;28mself\u001b[39m\u001b[38;5;241m.\u001b[39mconsume_results()\n\u001b[1;32m    920\u001b[0m \u001b[38;5;28;01melif\u001b[39;00m unread_result:\n\u001b[0;32m--> 921\u001b[0m     \u001b[38;5;28;01mraise\u001b[39;00m InternalError(\u001b[38;5;124m\"\u001b[39m\u001b[38;5;124mUnread result found\u001b[39m\u001b[38;5;124m\"\u001b[39m)\n",
      "\u001b[0;31mInternalError\u001b[0m: Unread result found"
     ]
    }
   ],
   "metadata": {}
  },
  {
   "cell_type": "code",
   "execution_count": 18,
   "source": [
    "cursor.reset()\n",
    "\n",
    "cursor = connection.cursor(buffered = True)\n",
    "\n",
    "cursor.execute(\"USE little_lemon\")\n",
    "cursor.execute(\"SELECT * FROM Bookings\")\n",
    "cursor.execute(\"SELECT * FROM Orders\")"
   ],
   "outputs": [],
   "metadata": {}
  },
  {
   "cell_type": "markdown",
   "source": [
    "## Task 3\n",
    "\n",
    "Little Lemon will have multiple databases soon. They need to plan for a scalable solution.  This information can be tracked in a Python dictionary. A dictionary cursor will be helpful as it returns a dictionary object.  \n",
    "\n",
    "Create a cursor with argument `[dictionary = True]` and retrieve the names of all the tables in the form of a dictionary object where the name of the tables is a value, and the database name is a key.  \n",
    "\n",
    "**TIP:** Explore the arguments that you can pass to the cursor module. "
   ],
   "metadata": {}
  },
  {
   "cell_type": "code",
   "execution_count": 19,
   "source": [
    "# Add your code here\n",
    "cursor.reset()\n",
    "\n",
    "cursor = connection.cursor(dictionary=True)\n",
    "\n",
    "cursor.execute(\"USE little_lemon\")\n",
    "\n",
    "cursor.execute(\"SHOW TABLES\")\n",
    "for table in cursor:\n",
    "    print(table)"
   ],
   "outputs": [
    {
     "output_type": "stream",
     "name": "stdout",
     "text": [
      "{'Tables_in_little_lemon': 'Bookings'}\n",
      "{'Tables_in_little_lemon': 'MenuItems'}\n",
      "{'Tables_in_little_lemon': 'Menus'}\n",
      "{'Tables_in_little_lemon': 'Orders'}\n"
     ]
    }
   ],
   "metadata": {}
  }
 ],
 "metadata": {
  "kernelspec": {
   "name": "python3",
   "display_name": "Python 3.8.10 64-bit"
  },
  "language_info": {
   "codemirror_mode": {
    "name": "ipython",
    "version": 3
   },
   "file_extension": ".py",
   "mimetype": "text/x-python",
   "name": "python",
   "nbconvert_exporter": "python",
   "pygments_lexer": "ipython3",
   "version": "3.8.10"
  },
  "interpreter": {
   "hash": "31f2aee4e71d21fbe5cf8b01ff0e069b9275f58929596ceb00d14d90e3e16cd6"
  }
 },
 "nbformat": 4,
 "nbformat_minor": 4
}