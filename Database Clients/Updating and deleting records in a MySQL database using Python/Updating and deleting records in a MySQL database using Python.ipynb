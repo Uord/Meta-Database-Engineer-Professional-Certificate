{
 "cells": [
  {
   "cell_type": "markdown",
   "source": [
    "## C6M2L1 Item 07 – Updating and deleting records in a MySQL database using Python\n"
   ],
   "metadata": {}
  },
  {
   "cell_type": "markdown",
   "source": [
    "## Generic guidelines     \n",
    "\n",
    "Refer to the [Exercise](https://www.coursera.org/learn/database-clients/supplement/0oDtw/working-with-labs-in-this-course) for guidance on viewing your code, instructions related to the Jupyter notebook environment, as well as how to access the MySQL database in it.    \n",
    "\n",
    "## Prerequisite \n",
    "\n",
    "To complete this exercise, you must have access to the `little_lemon` database. As an authorized user, you need to establish a connection between Python and the database via the connector API and create a `cursor` object using the following code:"
   ],
   "metadata": {}
  },
  {
   "cell_type": "code",
   "execution_count": 1,
   "source": [
    "import mysql.connector as connector"
   ],
   "outputs": [],
   "metadata": {}
  },
  {
   "cell_type": "code",
   "execution_count": 2,
   "source": [
    "# Establish connection b/w Python and MySQL database via connector API\n",
    "connection=connector.connect(\n",
    "                             user=\"root\", # use your own\n",
    "                             password=\"\", # use your own\n",
    "                            )"
   ],
   "outputs": [],
   "metadata": {}
  },
  {
   "cell_type": "code",
   "execution_count": 3,
   "source": [
    "# Create a cursor object to communicate with entire MySQL database\n",
    "cursor = connection.cursor()"
   ],
   "outputs": [],
   "metadata": {}
  },
  {
   "cell_type": "markdown",
   "source": [
    "Once, the connection is established, and you have a cursor object, you can select the database `little_lemon` using the code below and work with the respective table to accomplish the required tasks.  "
   ],
   "metadata": {}
  },
  {
   "cell_type": "code",
   "execution_count": 4,
   "source": [
    "# Set the little_lemon database for use \n",
    "cursor.execute(\"use little_lemon\")\n",
    "\n",
    "# Confirm the database in use\n",
    "connection.database"
   ],
   "outputs": [
    {
     "output_type": "execute_result",
     "data": {
      "text/plain": [
       "'little_lemon'"
      ]
     },
     "metadata": {},
     "execution_count": 4
    }
   ],
   "metadata": {}
  },
  {
   "cell_type": "markdown",
   "source": [
    "## Scenario \n",
    "\n",
    "Little Lemon restaurant need to update the records of customers in their database. They also need to delete records related to menu items. Let’s see if you can help Little Lemon to complete these update and delete tasks using Python. "
   ],
   "metadata": {}
  },
  {
   "cell_type": "markdown",
   "source": [
    "## Task 1:\n",
    "\n",
    "The guest Diana Pinto booked a table for two. She was assigned a Booking ID of 6 and the table number 8. However, she just rang Little Lemon to request a change to her booking. She now needs a table for four guests. \n",
    "\n",
    "You need to update Diana’s booking to table 10 in Little Lemon’s MySQL database using Python. Once you have executed the UPDATE query, use the SELECT statement to read all the data from the bookings table and print using for loop to confirm that the booking has been updated.   "
   ],
   "metadata": {}
  },
  {
   "cell_type": "code",
   "execution_count": 6,
   "source": [
    "# Add your code here\n",
    "update_booking = \"\"\"UPDATE Bookings\n",
    "SET TableNo=10\n",
    "WHERE BookingID=6;\"\"\"\n",
    "\n",
    "cursor.execute(update_booking)\n",
    "connection.commit()"
   ],
   "outputs": [],
   "metadata": {}
  },
  {
   "cell_type": "code",
   "execution_count": 8,
   "source": [
    "cursor.execute(\"SELECT * FROM Bookings\")\n",
    "result = cursor.fetchall()\n",
    "\n",
    "print(cursor.column_names)\n",
    "for row in result:\n",
    "    print(row)"
   ],
   "outputs": [
    {
     "output_type": "stream",
     "name": "stdout",
     "text": [
      "('BookingID', 'TableNo', 'GuestFirstName', 'GuestLastName', 'BookingSlot', 'EmployeeID')\n",
      "(1, 12, 'Anna', 'Iversen', datetime.timedelta(seconds=68400), 1)\n",
      "(2, 12, 'Joakim', 'Iversen', datetime.timedelta(seconds=68400), 1)\n",
      "(3, 19, 'Vanessa', 'McCarthy', datetime.timedelta(seconds=54000), 3)\n",
      "(4, 15, 'Marcos', 'Romero', datetime.timedelta(seconds=63000), 4)\n",
      "(5, 5, 'Hiroki', 'Yamane', datetime.timedelta(seconds=66600), 2)\n",
      "(6, 10, 'Diana', 'Pinto', datetime.timedelta(seconds=72000), 5)\n"
     ]
    }
   ],
   "metadata": {}
  },
  {
   "cell_type": "markdown",
   "source": [
    "## Task 2: \n",
    "\n",
    "Little Lemon has encountered a conflict with two bookings. To resolve the conflict, you need to update the record for the guest Joakim Iversen, who has a Booking ID of 2.  \n",
    "\n",
    "Update Joakim’s booking in the MySQL database using Python as follows: \n",
    "\n",
    "* Change the guest’s table number to 11 \n",
    "* Change the `EmployeeID` of the guest’s waiter to 6 \n",
    "\n",
    "This guest’s records must be updated in two locations within the booking table.  Once you have executed the code, view the output using a SELECT statement and print using for loop in python. "
   ],
   "metadata": {}
  },
  {
   "cell_type": "code",
   "execution_count": 13,
   "source": [
    "# Add your code here\n",
    "update_booking = \"\"\"UPDATE Bookings\n",
    "SET TableNo=11, EmployeeID=6\n",
    "WHERE BookingID=2;\"\"\"\n",
    "\n",
    "cursor.execute(update_booking)\n",
    "connection.commit()\n"
   ],
   "outputs": [],
   "metadata": {}
  },
  {
   "cell_type": "code",
   "execution_count": 14,
   "source": [
    "cursor.execute(\"SELECT * FROM Bookings\")\n",
    "result = cursor.fetchall()\n",
    "\n",
    "print(cursor.column_names)\n",
    "for row in result:\n",
    "    print(row)\n"
   ],
   "outputs": [
    {
     "output_type": "stream",
     "name": "stdout",
     "text": [
      "('BookingID', 'TableNo', 'GuestFirstName', 'GuestLastName', 'BookingSlot', 'EmployeeID')\n",
      "(1, 12, 'Anna', 'Iversen', datetime.timedelta(seconds=68400), 1)\n",
      "(2, 11, 'Joakim', 'Iversen', datetime.timedelta(seconds=68400), 6)\n",
      "(3, 19, 'Vanessa', 'McCarthy', datetime.timedelta(seconds=54000), 3)\n",
      "(4, 15, 'Marcos', 'Romero', datetime.timedelta(seconds=63000), 4)\n",
      "(5, 5, 'Hiroki', 'Yamane', datetime.timedelta(seconds=66600), 2)\n",
      "(6, 10, 'Diana', 'Pinto', datetime.timedelta(seconds=72000), 5)\n"
     ]
    }
   ],
   "metadata": {}
  },
  {
   "cell_type": "markdown",
   "source": [
    "## Task 3: \n",
    "\n",
    "Little Lemon restaurant didn’t receive their regular supply of ingredients today. This means that they can’t provide any Greek cuisine for their guests. They need to delete all Greek cuisine from their menu until the supply of ingredients is restored. \n",
    "\n",
    "Delete these records from the menu table in the Little Lemon database using Python. Once you have executed the code, view the output. "
   ],
   "metadata": {}
  },
  {
   "cell_type": "markdown",
   "source": [
    "Once, the required records are deleted using the above code, you can run the code below to confirm and print the updated \"Menus\" table."
   ],
   "metadata": {}
  },
  {
   "cell_type": "markdown",
   "source": [
    "### Additional on deleting all the records holding NULL values in a certain column."
   ],
   "metadata": {}
  },
  {
   "cell_type": "markdown",
   "source": [
    "**NOTE: Please make sure you have reverted all the changes and your database is in its original state for the upcoming labs.**\n",
    "\n",
    "For revisions and learning purpose, you ca recreate the database \"little_lemon\" and create table and populate them by rerunning the previous labs on:\n",
    "* Create your table structure\n",
    "* Creating and reading records"
   ],
   "metadata": {}
  },
  {
   "cell_type": "code",
   "execution_count": 15,
   "source": [
    "# Add your code here\n",
    "delete_menu = \"\"\"DELETE FROM Menus\n",
    "WHERE Cuisine='Greek'\"\"\"\n",
    "\n",
    "cursor.execute(delete_menu)\n",
    "connection.commit()"
   ],
   "outputs": [],
   "metadata": {}
  },
  {
   "cell_type": "code",
   "execution_count": 16,
   "source": [
    "cursor.execute(\"SELECT * FROM Menus\")\n",
    "result = cursor.fetchall()\n",
    "\n",
    "print(cursor.column_names)\n",
    "for row in result:\n",
    "    print(row)"
   ],
   "outputs": [
    {
     "output_type": "stream",
     "name": "stdout",
     "text": [
      "('MenuID', 'ItemID', 'Cuisine')\n",
      "(2, 3, 'Italian')\n",
      "(2, 9, 'Italian')\n",
      "(2, 12, 'Italian')\n",
      "(2, 15, 'Italian')\n",
      "(3, 5, 'Turkish')\n",
      "(3, 11, 'Turkish')\n",
      "(3, 16, 'Turkish')\n",
      "(3, 17, 'Turkish')\n"
     ]
    }
   ],
   "metadata": {}
  }
 ],
 "metadata": {
  "kernelspec": {
   "name": "python3",
   "display_name": "Python 3.8.10 64-bit"
  },
  "language_info": {
   "codemirror_mode": {
    "name": "ipython",
    "version": 3
   },
   "file_extension": ".py",
   "mimetype": "text/x-python",
   "name": "python",
   "nbconvert_exporter": "python",
   "pygments_lexer": "ipython3",
   "version": "3.8.10"
  },
  "interpreter": {
   "hash": "31f2aee4e71d21fbe5cf8b01ff0e069b9275f58929596ceb00d14d90e3e16cd6"
  }
 },
 "nbformat": 4,
 "nbformat_minor": 4
}